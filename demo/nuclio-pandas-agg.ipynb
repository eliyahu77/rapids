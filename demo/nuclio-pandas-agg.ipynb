{
 "cells": [
  {
   "cell_type": "markdown",
   "metadata": {},
   "source": [
    "# Nuclio\n",
    "## Unified Data batching & Agg function"
   ]
  },
  {
   "cell_type": "code",
   "execution_count": 1,
   "metadata": {},
   "outputs": [],
   "source": [
    "# nuclio: ignore\n",
    "import nuclio"
   ]
  },
  {
   "cell_type": "markdown",
   "metadata": {},
   "source": [
    "## Environment"
   ]
  },
  {
   "cell_type": "markdown",
   "metadata": {},
   "source": [
    "### Base config"
   ]
  },
  {
   "cell_type": "code",
   "execution_count": 2,
   "metadata": {},
   "outputs": [
    {
     "name": "stdout",
     "output_type": "stream",
     "text": [
      "%nuclio: setting spec.triggers.hahttp.kind to 'http'\n",
      "%nuclio: setting spec.triggers.hahttp.maxWorkers to 1\n",
      "%nuclio: setting spec.triggers.hahttp.attributes.port to 31002\n",
      "%nuclio: setting spec.build.baseImage to 'python:3.6-jessie'\n"
     ]
    }
   ],
   "source": [
    "%%nuclio config\n",
    "\n",
    "# Kafka Trigger\n",
    "# spec.triggers.hakafka.kind = \"kafka\"\n",
    "# spec.trigger.url = \"1.1.1.1\"\n",
    "# spec.triggers.hakafka.attributes.topic = \"haproxy\"\n",
    "# spec.triggers.hakafka.attributes.partitions = [0, 1, 2]\n",
    "# spec.triggers.hakafka.attributes.sasl.enable: true\n",
    "# spec.triggers.hakafka.attributes.sasl.user: \"\"\n",
    "# spec.triggers.hakafka.attributes.sasl.password: \"\"\n",
    "\n",
    "# HTTP Trigger      \n",
    "spec.triggers.hahttp.kind=\"http\"\n",
    "spec.triggers.hahttp.maxWorkers=1\n",
    "spec.triggers.hahttp.attributes.port=31002\n",
    "\n",
    "# Base image\n",
    "spec.build.baseImage = \"python:3.6-jessie\""
   ]
  },
  {
   "cell_type": "markdown",
   "metadata": {},
   "source": [
    "### Env variables"
   ]
  },
  {
   "cell_type": "code",
   "execution_count": 3,
   "metadata": {},
   "outputs": [
    {
     "name": "stdout",
     "output_type": "stream",
     "text": [
      "%nuclio: setting 'SINK_PATH' environment variable\n",
      "%nuclio: setting 'INTERVAL' environment variable\n",
      "%nuclio: setting 'METRIC_NAMES' environment variable\n"
     ]
    }
   ],
   "source": [
    "%nuclio env SINK_PATH=./sink\n",
    "%nuclio env INTERVAL=2\n",
    "%nuclio env METRIC_NAMES=cpu_utilization,latency,packet_loss,throughput"
   ]
  },
  {
   "cell_type": "markdown",
   "metadata": {},
   "source": [
    "### Build commands"
   ]
  },
  {
   "cell_type": "code",
   "execution_count": 4,
   "metadata": {},
   "outputs": [
    {
     "name": "stdout",
     "output_type": "stream",
     "text": [
      "Requirement already satisfied: pandas in /conda/lib/python3.6/site-packages (0.23.4)\n",
      "Requirement already satisfied: python-dateutil>=2.5.0 in /conda/lib/python3.6/site-packages (from pandas) (2.8.0)\n",
      "Requirement already satisfied: pytz>=2011k in /conda/lib/python3.6/site-packages (from pandas) (2019.1)\n",
      "Requirement already satisfied: numpy>=1.9.0 in /conda/lib/python3.6/site-packages (from pandas) (1.16.4)\n",
      "Requirement already satisfied: six>=1.5 in /conda/lib/python3.6/site-packages (from python-dateutil>=2.5.0->pandas) (1.12.0)\n"
     ]
    }
   ],
   "source": [
    "%%nuclio cmd\n",
    "pip install pandas"
   ]
  },
  {
   "cell_type": "markdown",
   "metadata": {},
   "source": [
    "## Function"
   ]
  },
  {
   "cell_type": "code",
   "execution_count": 5,
   "metadata": {},
   "outputs": [],
   "source": [
    "import os\n",
    "import glob\n",
    "from datetime import datetime, timedelta\n",
    "import time\n",
    "import pandas as pd\n",
    "import itertools\n",
    "import json\n",
    "\n",
    "# Define sink & Verify its available\n",
    "sink = os.getenv('SINK_PATH', './sink')\n",
    "os.makedirs(sink, exist_ok=True)\n",
    "\n",
    "# Expose metric names\n",
    "metric_names = os.environ['METRIC_NAMES']\n",
    "metric_names = metric_names.split(',')\n",
    "\n",
    "# Define batch & batch interval\n",
    "batch = list()\n",
    "interval = int(os.getenv('INTERVAL', 100))\n",
    "\n",
    "def handler(context, event):\n",
    "    global batch\n",
    "    global metric_names\n",
    "    \n",
    "    # Aggregate event jsons\n",
    "    batch.append(event.body)\n",
    "    \n",
    "    # Did we aggregate enough events for aggregation?\n",
    "    if len(batch) >= interval:\n",
    "        \n",
    "        # Create pandas DataFrame from the batch of event jsons\n",
    "        df = pd.read_json('\\n'.join(batch), lines=True)\n",
    "        df = df.reset_index(drop=True)\n",
    "        \n",
    "        # Perform aggregations\n",
    "        df = df.groupby(['company']).\\\n",
    "                    agg({k: ['min', 'max', 'mean'] for k in metric_names})\n",
    "        \n",
    "        # Save to parquet\n",
    "        filename = f'{time.time()}.parquet'\n",
    "        filepath = os.path.join(sink, filename)\n",
    "        new_index = [f'{e[0]}_{e[1]}' for e in list(df.columns)]\n",
    "        df.columns = new_index\n",
    "        df.to_parquet(filepath)\n",
    "        \n",
    "        # Reset batch\n",
    "        batch = list()"
   ]
  },
  {
   "cell_type": "markdown",
   "metadata": {},
   "source": [
    "## Test"
   ]
  },
  {
   "cell_type": "code",
   "execution_count": 6,
   "metadata": {},
   "outputs": [],
   "source": [
    "# nuclio: ignore\n",
    "event = nuclio.Event(body='{\"company\":\"Rios__Pope_and_Baird\",\"cpu_utilization\":70.6942165035,\"cpu_utilization_is_error\":false,\"latency\":3.1373003261,\"latency_is_error\":false,\"packet_loss\":0.0,\"packet_loss_is_error\":false,\"throughput\":249.7207880994,\"throughput_is_error\":false,\"timestamp\":1563795193534}')\n",
    "out = handler(context, event)\n",
    "out"
   ]
  },
  {
   "cell_type": "markdown",
   "metadata": {},
   "source": [
    "## Deploy (If a nuclio cluster is available)"
   ]
  },
  {
   "cell_type": "code",
   "execution_count": 7,
   "metadata": {},
   "outputs": [
    {
     "name": "stdout",
     "output_type": "stream",
     "text": [
      "[nuclio.deploy] 2019-08-07 12:29:45,407 (info) Building processor image\n",
      "[nuclio.deploy] 2019-08-07 12:29:47,443 (info) Pushing image\n",
      "[nuclio.deploy] 2019-08-07 12:29:47,443 (info) Build complete\n",
      "[nuclio.deploy] 2019-08-07 12:29:51,488 (info) Function deploy complete\n",
      "[nuclio.deploy] 2019-08-07 12:29:51,494 done updating pd-batch-and-agg, function address: 3.120.15.118:31002\n",
      "%nuclio: function deployed\n"
     ]
    }
   ],
   "source": [
    "%nuclio deploy -p nvidia -n pd_batch_and_agg -c"
   ]
  },
  {
   "cell_type": "code",
   "execution_count": null,
   "metadata": {},
   "outputs": [],
   "source": []
  }
 ],
 "metadata": {
  "kernelspec": {
   "display_name": "Python 3",
   "language": "python",
   "name": "python3"
  },
  "language_info": {
   "codemirror_mode": {
    "name": "ipython",
    "version": 3
   },
   "file_extension": ".py",
   "mimetype": "text/x-python",
   "name": "python",
   "nbconvert_exporter": "python",
   "pygments_lexer": "ipython3",
   "version": "3.6.8"
  }
 },
 "nbformat": 4,
 "nbformat_minor": 4
}
