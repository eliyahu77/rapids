{
 "cells": [
  {
   "cell_type": "markdown",
   "metadata": {},
   "source": [
    "# Nuclio\n",
    "## Unified Data batching & Agg function"
   ]
  },
  {
   "cell_type": "code",
   "execution_count": 2,
   "metadata": {},
   "outputs": [],
   "source": [
    "# nuclio: ignore\n",
    "import nuclio"
   ]
  },
  {
   "cell_type": "markdown",
   "metadata": {},
   "source": [
    "## Environment"
   ]
  },
  {
   "cell_type": "markdown",
   "metadata": {},
   "source": [
    "### Base config"
   ]
  },
  {
   "cell_type": "code",
   "execution_count": 13,
   "metadata": {},
   "outputs": [
    {
     "name": "stdout",
     "output_type": "stream",
     "text": [
      "%nuclio: setting spec.triggers.hahttp.kind to 'http'\n",
      "%nuclio: setting spec.triggers.hahttp.maxWorkers to 1\n",
      "%nuclio: setting spec.triggers.hahttp.attributes.port to 31001\n",
      "%nuclio: setting spec.triggers.verifybatch.kind to 'cron'\n",
      "%nuclio: setting spec.triggers.verifybatch.attributes.interval to '1m'\n",
      "%nuclio: setting spec.build.baseImage to 'rapidsai/rapidsai:cuda10.0-runtime-centos7'\n"
     ]
    }
   ],
   "source": [
    "%%nuclio config\n",
    "\n",
    "# Kafka Trigger\n",
    "# spec.triggers.hakafka.kind = \"kafka\"\n",
    "# spec.trigger.url = \"1.1.1.1\"\n",
    "# spec.triggers.hakafka.attributes.topic = \"haproxy\"\n",
    "# spec.triggers.hakafka.attributes.partitions = [0, 1, 2]\n",
    "# spec.triggers.hakafka.attributes.sasl.enable: true\n",
    "# spec.triggers.hakafka.attributes.sasl.user: \"\"\n",
    "# spec.triggers.hakafka.attributes.sasl.password: \"\"\n",
    "\n",
    "# HTTP Trigger      \n",
    "spec.triggers.hahttp.kind=\"http\"\n",
    "spec.triggers.hahttp.maxWorkers=1\n",
    "spec.triggers.hahttp.attributes.port=31001\n",
    "\n",
    "# Ingestion verifyer \n",
    "spec.triggers.verifybatch.kind = \"cron\"\n",
    "spec.triggers.verifybatch.attributes.interval = \"1m\"\n",
    "\n",
    "# Base image\n",
    "spec.build.baseImage = \"rapidsai/rapidsai:cuda10.0-runtime-centos7\""
   ]
  },
  {
   "cell_type": "markdown",
   "metadata": {},
   "source": [
    "### Build commands"
   ]
  },
  {
   "cell_type": "code",
   "execution_count": 6,
   "metadata": {},
   "outputs": [],
   "source": [
    "%%nuclio cmd\n",
    "# None Needed at the moment"
   ]
  },
  {
   "cell_type": "markdown",
   "metadata": {},
   "source": [
    "### Env variables"
   ]
  },
  {
   "cell_type": "code",
   "execution_count": 9,
   "metadata": {},
   "outputs": [
    {
     "name": "stdout",
     "output_type": "stream",
     "text": [
      "%nuclio: setting 'SINK_PATH' environment variable\n",
      "%nuclio: setting 'BATCHING_TIME_IN_SECONDS' environment variable\n"
     ]
    }
   ],
   "source": [
    "%nuclio env SINK_PATH=./sink\n",
    "%nuclio env BATCHING_TIME_IN_SECONDS=60"
   ]
  },
  {
   "cell_type": "markdown",
   "metadata": {},
   "source": [
    "## Function"
   ]
  },
  {
   "cell_type": "code",
   "execution_count": 8,
   "metadata": {},
   "outputs": [],
   "source": [
    "import os\n",
    "import glob\n",
    "from datetime import datetime, timedelta\n",
    "import time\n",
    "import cudf\n",
    "import itertools\n",
    "import json"
   ]
  },
  {
   "cell_type": "markdown",
   "metadata": {},
   "source": [
    "## Helper functions"
   ]
  },
  {
   "cell_type": "code",
   "execution_count": 10,
   "metadata": {},
   "outputs": [],
   "source": [
    "def add_log_to_batch(context, log):\n",
    "    # No need to marshall json since that will happen when saving the batch\n",
    "    context.batch.append(log)"
   ]
  },
  {
   "cell_type": "code",
   "execution_count": 14,
   "metadata": {},
   "outputs": [],
   "source": [
    "def reset_batch(context):\n",
    "    \n",
    "    # Reset log list\n",
    "    context.batch = list()\n",
    "    \n",
    "    # Reset batch end time\n",
    "    context.batch_end_time += context.batch_interval"
   ]
  },
  {
   "cell_type": "code",
   "execution_count": 15,
   "metadata": {},
   "outputs": [],
   "source": [
    "def _batch_to_df(context):\n",
    "    '''\n",
    "        Turns a json-string array to a full pandas dataframe\n",
    "    '''\n",
    "    df = cudf.read_json('\\n'.join(context.batch), lines=True)\n",
    "    df = df.reset_index(drop=True)\n",
    "    return df"
   ]
  },
  {
   "cell_type": "code",
   "execution_count": 21,
   "metadata": {},
   "outputs": [],
   "source": [
    "def df_to_parquet(context, df):\n",
    "    filename = f'{time.time()}.parquet'\n",
    "    filepath = os.path.join(context.sink, filename)\n",
    "    \n",
    "    df.to_parquet(filepath)"
   ]
  },
  {
   "cell_type": "markdown",
   "metadata": {},
   "source": [
    "### Main function code"
   ]
  },
  {
   "cell_type": "code",
   "execution_count": 17,
   "metadata": {},
   "outputs": [],
   "source": [
    "def init_context(context):\n",
    "        sink = os.getenv('SINK_PATH', './sink')\n",
    "        setattr(context, 'sink', sink)\n",
    "        \n",
    "        # Verify sink is available\n",
    "        os.makedirs(context.sink, exist_ok=True)\n",
    "        \n",
    "        batch_interval = int(os.getenv('BATCH_INTERVAL_IN_SECONDS', '60'))\n",
    "        batch_interval = timedelta(seconds=batch_interval)\n",
    "        setattr(context, 'batch_interval', batch_interval)\n",
    "        \n",
    "        batch_end_time = datetime.now() + batch_interval\n",
    "        setattr(context, 'batch_end_time', batch_end_time)\n",
    "        \n",
    "        batch = list()\n",
    "        setattr(context, 'batch', batch)"
   ]
  },
  {
   "cell_type": "code",
   "execution_count": 22,
   "metadata": {},
   "outputs": [],
   "source": [
    "def handler(context, event):      \n",
    "    add_log_to_batch(context, event.body)\n",
    "    \n",
    "    if datetime.now() >= context.batch_end_time:\n",
    "        df = _batch_to_df(context)\n",
    "        if not df.empty:\n",
    "            df = df.groupby(['log_ip']).agg({'feconn':'mean',\n",
    "                                                    'beconn':'mean',\n",
    "                                                    'time_backend_response':'max',\n",
    "                                                    'time_backend_response':'mean',\n",
    "                                                    'time_queue':'mean',\n",
    "                                                    'time_duration': 'mean',\n",
    "                                                    'time_request': 'mean',\n",
    "                                                    'time_backend_connect':'mean'\n",
    "                                                   })\n",
    "        df_to_parquet(context, df)\n",
    "        reset_batch(context)"
   ]
  },
  {
   "cell_type": "markdown",
   "metadata": {},
   "source": [
    "## Test"
   ]
  },
  {
   "cell_type": "code",
   "execution_count": 23,
   "metadata": {},
   "outputs": [],
   "source": [
    "# nuclio : ignore\n",
    "init_context(context)"
   ]
  },
  {
   "cell_type": "code",
   "execution_count": 62,
   "metadata": {},
   "outputs": [],
   "source": [
    "# nuclio : ignore\n",
    "event = nuclio.Event(body='{\"log_ip\": \"15.2.6.9\", \"syslog_timestamp\": \"May 28 00:00:09\", \"program\": \"haproxy\", \"pid\": 164541, \"client_ip\": \"126.52.74.15\", \"client_port\": 52465, \"accept_date\": \"28/May/2019:00:20:10.891\", \"frontend_name\": \"px-http\", \"backend_name\": \"px-http\", \"server_name\": \"srv2\", \"time_request\": 1, \"time_queue\": 2, \"time_backend_connect\": 1, \"time_backend_response\": 5, \"time_duration\": 13, \"http_status_code\": 200, \"bytes_read\": 4, \"captured_request\": \"-\", \"captured_response\": \"-\", \"termination_state\": \"----\", \"actconn\": 2, \"feconn\": 5, \"beconn\": 1, \"srvconn\": 1, \"retries\": 1, \"srv_queue\": 1, \"backend_queue\": 3}')\n",
    "out = handler(context, event)\n",
    "out"
   ]
  },
  {
   "cell_type": "markdown",
   "metadata": {},
   "source": [
    "## Deploy (If a nuclio cluster is available)"
   ]
  },
  {
   "cell_type": "code",
   "execution_count": null,
   "metadata": {},
   "outputs": [],
   "source": [
    "%nuclio deploy -p nvidia -n batch_and_agg -c"
   ]
  }
 ],
 "metadata": {
  "kernelspec": {
   "display_name": "Python 3",
   "language": "python",
   "name": "python3"
  },
  "language_info": {
   "codemirror_mode": {
    "name": "ipython",
    "version": 3
   },
   "file_extension": ".py",
   "mimetype": "text/x-python",
   "name": "python",
   "nbconvert_exporter": "python",
   "pygments_lexer": "ipython3",
   "version": "3.6.8"
  }
 },
 "nbformat": 4,
 "nbformat_minor": 2
}
