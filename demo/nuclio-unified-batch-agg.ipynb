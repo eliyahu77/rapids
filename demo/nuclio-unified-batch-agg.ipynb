{
 "cells": [
  {
   "cell_type": "markdown",
   "metadata": {},
   "source": [
    "# Nuclio\n",
    "## Unified Data batching & Agg function"
   ]
  },
  {
   "cell_type": "code",
   "execution_count": 2,
   "metadata": {},
   "outputs": [],
   "source": [
    "# nuclio: ignore\n",
    "import nuclio"
   ]
  },
  {
   "cell_type": "markdown",
   "metadata": {},
   "source": [
    "## Environment"
   ]
  },
  {
   "cell_type": "markdown",
   "metadata": {},
   "source": [
    "### Base config"
   ]
  },
  {
   "cell_type": "code",
   "execution_count": 3,
   "metadata": {},
   "outputs": [
    {
     "name": "stdout",
     "output_type": "stream",
     "text": [
      "%nuclio: setting spec.triggers.hahttp.kind to 'http'\n",
      "%nuclio: setting spec.triggers.hahttp.maxWorkers to 1\n",
      "%nuclio: setting spec.triggers.hahttp.attributes.port to 31001\n",
      "%nuclio: setting spec.triggers.verifybatch.kind to 'cron'\n",
      "%nuclio: setting spec.triggers.verifybatch.attributes.interval to '1m'\n",
      "%nuclio: setting spec.build.baseImage to 'rapidsai/rapidsai:cuda10.0-runtime-centos7'\n"
     ]
    }
   ],
   "source": [
    "%%nuclio config\n",
    "\n",
    "# Kafka Trigger\n",
    "# spec.triggers.hakafka.kind = \"kafka\"\n",
    "# spec.trigger.url = \"1.1.1.1\"\n",
    "# spec.triggers.hakafka.attributes.topic = \"haproxy\"\n",
    "# spec.triggers.hakafka.attributes.partitions = [0, 1, 2]\n",
    "# spec.triggers.hakafka.attributes.sasl.enable: true\n",
    "# spec.triggers.hakafka.attributes.sasl.user: \"\"\n",
    "# spec.triggers.hakafka.attributes.sasl.password: \"\"\n",
    "\n",
    "# HTTP Trigger      \n",
    "spec.triggers.hahttp.kind=\"http\"\n",
    "spec.triggers.hahttp.maxWorkers=1\n",
    "spec.triggers.hahttp.attributes.port=31001\n",
    "\n",
    "# Ingestion verifyer \n",
    "spec.triggers.verifybatch.kind = \"cron\"\n",
    "spec.triggers.verifybatch.attributes.interval = \"1m\"\n",
    "\n",
    "# Base image\n",
    "spec.build.baseImage = \"rapidsai/rapidsai:cuda10.0-runtime-centos7\""
   ]
  },
  {
   "cell_type": "markdown",
   "metadata": {},
   "source": [
    "### Build commands"
   ]
  },
  {
   "cell_type": "code",
   "execution_count": 4,
   "metadata": {},
   "outputs": [],
   "source": [
    "%%nuclio cmd\n",
    "# None Needed at the moment"
   ]
  },
  {
   "cell_type": "markdown",
   "metadata": {},
   "source": [
    "### Env variables"
   ]
  },
  {
   "cell_type": "code",
   "execution_count": 5,
   "metadata": {},
   "outputs": [
    {
     "name": "stdout",
     "output_type": "stream",
     "text": [
      "%nuclio: setting 'SINK_PATH' environment variable\n",
      "%nuclio: setting 'BATCHING_TIME_IN_SECONDS' environment variable\n",
      "%nuclio: setting 'METRIC_NAMES' environment variable\n"
     ]
    }
   ],
   "source": [
    "%nuclio env SINK_PATH=./sink\n",
    "%nuclio env BATCHING_TIME_IN_SECONDS=60\n",
    "%nuclio env METRIC_NAMES=cpu_utilization,latency,packet_loss,throughput"
   ]
  },
  {
   "cell_type": "markdown",
   "metadata": {},
   "source": [
    "## Function"
   ]
  },
  {
   "cell_type": "code",
   "execution_count": 6,
   "metadata": {},
   "outputs": [],
   "source": [
    "import os\n",
    "import glob\n",
    "from datetime import datetime, timedelta\n",
    "import time\n",
    "import cudf\n",
    "import itertools\n",
    "import json"
   ]
  },
  {
   "cell_type": "markdown",
   "metadata": {},
   "source": [
    "## Helper functions"
   ]
  },
  {
   "cell_type": "code",
   "execution_count": 7,
   "metadata": {},
   "outputs": [],
   "source": [
    "def add_log_to_batch(context, log):\n",
    "    # No need to marshall json since that will happen when saving the batch\n",
    "    context.batch.append(log)"
   ]
  },
  {
   "cell_type": "code",
   "execution_count": 8,
   "metadata": {},
   "outputs": [],
   "source": [
    "def reset_batch(context):\n",
    "    \n",
    "    # Reset log list\n",
    "    context.batch = list()\n",
    "    \n",
    "    # Reset batch end time\n",
    "    context.batch_end_time += context.batch_interval"
   ]
  },
  {
   "cell_type": "code",
   "execution_count": 9,
   "metadata": {},
   "outputs": [],
   "source": [
    "def _batch_to_df(context):\n",
    "    '''\n",
    "        Turns a json-string array to a full pandas dataframe\n",
    "    '''\n",
    "    df = cudf.read_json('\\n'.join(context.batch), lines=True)\n",
    "    df = df.reset_index(drop=True)\n",
    "    return df"
   ]
  },
  {
   "cell_type": "code",
   "execution_count": 75,
   "metadata": {},
   "outputs": [],
   "source": [
    "def df_to_parquet(context, df):\n",
    "    filename = f'{time.time()}.parquet'\n",
    "    filepath = os.path.join(context.sink, filename)\n",
    "\n",
    "    new_cols = list(df.columns)\n",
    "    new_index = [f'{e[0]}_{e[1]}' for e in new_cols]\n",
    "    print(new_cols)\n",
    "    print(new_index)\n",
    "    df.columns = new_index\n",
    "    \n",
    "    df.to_pandas().to_parquet(filepath)"
   ]
  },
  {
   "cell_type": "markdown",
   "metadata": {},
   "source": [
    "### Main function code"
   ]
  },
  {
   "cell_type": "code",
   "execution_count": 11,
   "metadata": {},
   "outputs": [],
   "source": [
    "def init_context(context):\n",
    "        sink = os.getenv('SINK_PATH', './sink')\n",
    "        setattr(context, 'sink', sink)\n",
    "        \n",
    "        # Verify sink is available\n",
    "        os.makedirs(context.sink, exist_ok=True)\n",
    "        \n",
    "        # Expose metric names\n",
    "        metric_names = os.environ['METRIC_NAMES']\n",
    "        metric_names = metric_names.split(',')\n",
    "        setattr(context, 'metric_names', metric_names)\n",
    "        \n",
    "        batch_interval = int(os.getenv('BATCH_INTERVAL_IN_SECONDS', '60'))\n",
    "        batch_interval = timedelta(seconds=batch_interval)\n",
    "        setattr(context, 'batch_interval', batch_interval)\n",
    "        \n",
    "        batch_end_time = datetime.now() + batch_interval\n",
    "        setattr(context, 'batch_end_time', batch_end_time)\n",
    "        \n",
    "        batch = list()\n",
    "        setattr(context, 'batch', batch)"
   ]
  },
  {
   "cell_type": "code",
   "execution_count": 12,
   "metadata": {},
   "outputs": [],
   "source": [
    "def handler(context, event):      \n",
    "    add_log_to_batch(context, event.body)\n",
    "    \n",
    "    if datetime.now() >= context.batch_end_time:\n",
    "        df = _batch_to_df(context)\n",
    "        if not df.empty:\n",
    "            df = df.groupby(['company']).\\\n",
    "                        agg({k: ['min', 'max', 'mean'] for k in context.metric_names})\n",
    "        df_to_parquet(context, df)\n",
    "        reset_batch(context)"
   ]
  },
  {
   "cell_type": "markdown",
   "metadata": {},
   "source": [
    "## Test"
   ]
  },
  {
   "cell_type": "code",
   "execution_count": 13,
   "metadata": {},
   "outputs": [],
   "source": [
    "# nuclio : ignore\n",
    "init_context(context)"
   ]
  },
  {
   "cell_type": "code",
   "execution_count": 76,
   "metadata": {},
   "outputs": [
    {
     "name": "stdout",
     "output_type": "stream",
     "text": [
      "[('cpu_utilization', 'min'), ('cpu_utilization', 'max'), ('cpu_utilization', 'mean'), ('latency', 'min'), ('latency', 'max'), ('latency', 'mean'), ('packet_loss', 'min'), ('packet_loss', 'max'), ('packet_loss', 'mean'), ('throughput', 'min'), ('throughput', 'max'), ('throughput', 'mean')]\n",
      "['cpu_utilization_min', 'cpu_utilization_max', 'cpu_utilization_mean', 'latency_min', 'latency_max', 'latency_mean', 'packet_loss_min', 'packet_loss_max', 'packet_loss_mean', 'throughput_min', 'throughput_max', 'throughput_mean']\n",
      "                      cpu_utilization_min  cpu_utilization_max  \\\n",
      "company                                                          \n",
      "Rios__Pope_and_Baird            70.694217            70.694217   \n",
      "\n",
      "                      cpu_utilization_mean  latency_min  latency_max  \\\n",
      "company                                                                \n",
      "Rios__Pope_and_Baird             70.694217       3.1373       3.1373   \n",
      "\n",
      "                      latency_mean  packet_loss_min  packet_loss_max  \\\n",
      "company                                                                \n",
      "Rios__Pope_and_Baird        3.1373              0.0              0.0   \n",
      "\n",
      "                      packet_loss_mean  throughput_min  throughput_max  \\\n",
      "company                                                                  \n",
      "Rios__Pope_and_Baird               0.0      249.720788      249.720788   \n",
      "\n",
      "                      throughput_mean  \n",
      "company                                \n",
      "Rios__Pope_and_Baird       249.720788  \n"
     ]
    }
   ],
   "source": [
    "# nuclio : ignore\n",
    "event = nuclio.Event(body='{\"company\":\"Rios__Pope_and_Baird\",\"cpu_utilization\":70.6942165035,\"cpu_utilization_is_error\":false,\"latency\":3.1373003261,\"latency_is_error\":false,\"packet_loss\":0.0,\"packet_loss_is_error\":false,\"throughput\":249.7207880994,\"throughput_is_error\":false,\"timestamp\":1563795193534}')\n",
    "out = handler(context, event)\n",
    "out"
   ]
  },
  {
   "cell_type": "markdown",
   "metadata": {},
   "source": [
    "## Deploy (If a nuclio cluster is available)"
   ]
  },
  {
   "cell_type": "code",
   "execution_count": null,
   "metadata": {},
   "outputs": [],
   "source": [
    "%nuclio deploy -p nvidia -n batch_and_agg -c"
   ]
  }
 ],
 "metadata": {
  "kernelspec": {
   "display_name": "Python 3",
   "language": "python",
   "name": "python3"
  },
  "language_info": {
   "codemirror_mode": {
    "name": "ipython",
    "version": 3
   },
   "file_extension": ".py",
   "mimetype": "text/x-python",
   "name": "python",
   "nbconvert_exporter": "python",
   "pygments_lexer": "ipython3",
   "version": "3.6.8"
  }
 },
 "nbformat": 4,
 "nbformat_minor": 2
}
