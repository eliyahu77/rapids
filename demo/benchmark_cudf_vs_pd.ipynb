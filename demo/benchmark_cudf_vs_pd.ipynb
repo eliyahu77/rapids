{
 "cells": [
  {
   "cell_type": "markdown",
   "metadata": {},
   "source": [
    "# Benchmark Pandas vs Cudf\n",
    "- Using *timeit*"
   ]
  },
  {
   "cell_type": "markdown",
   "metadata": {},
   "source": [
    "### System details"
   ]
  },
  {
   "cell_type": "markdown",
   "metadata": {},
   "source": [
    "#### GPU"
   ]
  },
  {
   "cell_type": "code",
   "execution_count": 1,
   "metadata": {},
   "outputs": [
    {
     "name": "stdout",
     "output_type": "stream",
     "text": [
      "\n",
      "==============NVSMI LOG==============\n",
      "\n",
      "Timestamp                           : Wed Jul  3 11:02:34 2019\n",
      "Driver Version                      : 418.56\n",
      "CUDA Version                        : 10.1\n",
      "\n",
      "Attached GPUs                       : 1\n",
      "GPU 00000000:00:1E.0\n",
      "    Product Name                    : Tesla V100-SXM2-16GB\n",
      "    Product Brand                   : Tesla\n",
      "    Display Mode                    : Enabled\n",
      "    Display Active                  : Disabled\n",
      "    Persistence Mode                : Enabled\n",
      "    Accounting Mode                 : Disabled\n",
      "    Accounting Mode Buffer Size     : 4000\n",
      "    Driver Model\n",
      "        Current                     : N/A\n",
      "        Pending                     : N/A\n",
      "    Serial Number                   : 0420219038723\n",
      "    GPU UUID                        : GPU-11bfb470-bf49-6b8e-8d36-de2470d215dc\n",
      "    Minor Number                    : 0\n",
      "    VBIOS Version                   : 88.00.4F.00.09\n",
      "    MultiGPU Board                  : No\n",
      "    Board ID                        : 0x1e\n",
      "    GPU Part Number                 : 900-2G503-0000-000\n",
      "    Inforom Version\n",
      "        Image Version               : G503.0201.00.03\n",
      "        OEM Object                  : 1.1\n",
      "        ECC Object                  : 5.0\n",
      "        Power Management Object     : N/A\n",
      "    GPU Operation Mode\n",
      "        Current                     : N/A\n",
      "        Pending                     : N/A\n",
      "    GPU Virtualization Mode\n",
      "        Virtualization mode         : Pass-Through\n",
      "    IBMNPU\n",
      "        Relaxed Ordering Mode       : N/A\n",
      "    PCI\n",
      "        Bus                         : 0x00\n",
      "        Device                      : 0x1E\n",
      "        Domain                      : 0x0000\n",
      "        Device Id                   : 0x1DB110DE\n",
      "        Bus Id                      : 00000000:00:1E.0\n",
      "        Sub System Id               : 0x121210DE\n",
      "        GPU Link Info\n",
      "            PCIe Generation\n",
      "                Max                 : 3\n",
      "                Current             : 3\n",
      "            Link Width\n",
      "                Max                 : 16x\n",
      "                Current             : 16x\n",
      "        Bridge Chip\n",
      "            Type                    : N/A\n",
      "            Firmware                : N/A\n",
      "        Replays Since Reset         : 0\n",
      "        Replay Number Rollovers     : 0\n",
      "        Tx Throughput               : 0 KB/s\n",
      "        Rx Throughput               : 0 KB/s\n",
      "    Fan Speed                       : N/A\n",
      "    Performance State               : P0\n",
      "    Clocks Throttle Reasons\n",
      "        Idle                        : Active\n",
      "        Applications Clocks Setting : Not Active\n",
      "        SW Power Cap                : Not Active\n",
      "        HW Slowdown                 : Not Active\n",
      "            HW Thermal Slowdown     : Not Active\n",
      "            HW Power Brake Slowdown : Not Active\n",
      "        Sync Boost                  : Not Active\n",
      "        SW Thermal Slowdown         : Not Active\n",
      "        Display Clock Setting       : Not Active\n",
      "    FB Memory Usage\n",
      "        Total                       : 16130 MiB\n",
      "        Used                        : 0 MiB\n",
      "        Free                        : 16130 MiB\n",
      "    BAR1 Memory Usage\n",
      "        Total                       : 16384 MiB\n",
      "        Used                        : 2 MiB\n",
      "        Free                        : 16382 MiB\n",
      "    Compute Mode                    : Default\n",
      "    Utilization\n",
      "        Gpu                         : 0 %\n",
      "        Memory                      : 0 %\n",
      "        Encoder                     : 0 %\n",
      "        Decoder                     : 0 %\n",
      "    Encoder Stats\n",
      "        Active Sessions             : 0\n",
      "        Average FPS                 : 0\n",
      "        Average Latency             : 0\n",
      "    FBC Stats\n",
      "        Active Sessions             : 0\n",
      "        Average FPS                 : 0\n",
      "        Average Latency             : 0\n",
      "    Ecc Mode\n",
      "        Current                     : Enabled\n",
      "        Pending                     : Enabled\n",
      "    ECC Errors\n",
      "        Volatile\n",
      "            Single Bit            \n",
      "                Device Memory       : 0\n",
      "                Register File       : 0\n",
      "                L1 Cache            : 0\n",
      "                L2 Cache            : 0\n",
      "                Texture Memory      : N/A\n",
      "                Texture Shared      : N/A\n",
      "                CBU                 : N/A\n",
      "                Total               : 0\n",
      "            Double Bit            \n",
      "                Device Memory       : 0\n",
      "                Register File       : 0\n",
      "                L1 Cache            : 0\n",
      "                L2 Cache            : 0\n",
      "                Texture Memory      : N/A\n",
      "                Texture Shared      : N/A\n",
      "                CBU                 : 0\n",
      "                Total               : 0\n",
      "        Aggregate\n",
      "            Single Bit            \n",
      "                Device Memory       : 0\n",
      "                Register File       : 0\n",
      "                L1 Cache            : 0\n",
      "                L2 Cache            : 0\n",
      "                Texture Memory      : N/A\n",
      "                Texture Shared      : N/A\n",
      "                CBU                 : N/A\n",
      "                Total               : 0\n",
      "            Double Bit            \n",
      "                Device Memory       : 0\n",
      "                Register File       : 0\n",
      "                L1 Cache            : 0\n",
      "                L2 Cache            : 0\n",
      "                Texture Memory      : N/A\n",
      "                Texture Shared      : N/A\n",
      "                CBU                 : 0\n",
      "                Total               : 0\n",
      "    Retired Pages\n",
      "        Single Bit ECC              : 0\n",
      "        Double Bit ECC              : 0\n",
      "        Pending                     : No\n",
      "    Temperature\n",
      "        GPU Current Temp            : 33 C\n",
      "        GPU Shutdown Temp           : 90 C\n",
      "        GPU Slowdown Temp           : 87 C\n",
      "        GPU Max Operating Temp      : 83 C\n",
      "        Memory Current Temp         : 29 C\n",
      "        Memory Max Operating Temp   : 85 C\n",
      "    Power Readings\n",
      "        Power Management            : Supported\n",
      "        Power Draw                  : 25.44 W\n",
      "        Power Limit                 : 300.00 W\n",
      "        Default Power Limit         : 300.00 W\n",
      "        Enforced Power Limit        : 300.00 W\n",
      "        Min Power Limit             : 150.00 W\n",
      "        Max Power Limit             : 300.00 W\n",
      "    Clocks\n",
      "        Graphics                    : 135 MHz\n",
      "        SM                          : 135 MHz\n",
      "        Memory                      : 877 MHz\n",
      "        Video                       : 555 MHz\n",
      "    Applications Clocks\n",
      "        Graphics                    : 1312 MHz\n",
      "        Memory                      : 877 MHz\n",
      "    Default Applications Clocks\n",
      "        Graphics                    : 1312 MHz\n",
      "        Memory                      : 877 MHz\n",
      "    Max Clocks\n",
      "        Graphics                    : 1530 MHz\n",
      "        SM                          : 1530 MHz\n",
      "        Memory                      : 877 MHz\n",
      "        Video                       : 1372 MHz\n",
      "    Max Customer Boost Clocks\n",
      "        Graphics                    : 1530 MHz\n",
      "    Clock Policy\n",
      "        Auto Boost                  : N/A\n",
      "        Auto Boost Default          : N/A\n",
      "    Processes                       : None\n",
      "\n"
     ]
    }
   ],
   "source": [
    "!nvidia-smi -q"
   ]
  },
  {
   "cell_type": "markdown",
   "metadata": {},
   "source": [
    "#### CPU"
   ]
  },
  {
   "cell_type": "code",
   "execution_count": 2,
   "metadata": {},
   "outputs": [
    {
     "name": "stdout",
     "output_type": "stream",
     "text": [
      "processor       : 0\n",
      "vendor_id       : GenuineIntel\n",
      "cpu family      : 6\n",
      "model           : 79\n",
      "model name      : Intel(R) Xeon(R) CPU E5-2686 v4 @ 2.30GHz\n",
      "stepping        : 1\n",
      "microcode       : 0xb000037\n",
      "cpu MHz         : 2699.804\n",
      "cache size      : 46080 KB\n",
      "physical id     : 0\n",
      "siblings        : 8\n",
      "core id         : 0\n",
      "cpu cores       : 4\n",
      "apicid          : 0\n",
      "initial apicid  : 0\n",
      "fpu             : yes\n",
      "fpu_exception   : yes\n",
      "cpuid level     : 13\n",
      "wp              : yes\n",
      "flags           : fpu vme de pse tsc msr pae mce cx8 apic sep mtrr pge mca cmov pat pse36 clflush mmx fxsr sse sse2 ht syscall nx pdpe1gb rdtscp lm constant_tsc rep_good nopl xtopology nonstop_tsc aperfmperf eagerfpu pni pclmulqdq ssse3 fma cx16 pcid sse4_1 sse4_2 x2apic movbe popcnt tsc_deadline_timer aes xsave avx f1\u001b[7m/proc/cpuinfo\u001b[m\u001b[K"
     ]
    }
   ],
   "source": [
    "!less /proc/cpuinfo"
   ]
  },
  {
   "cell_type": "markdown",
   "metadata": {},
   "source": [
    "## Preperations\n",
    "- Imports\n",
    "- Variables"
   ]
  },
  {
   "cell_type": "code",
   "execution_count": 6,
   "metadata": {},
   "outputs": [],
   "source": [
    "import os"
   ]
  },
  {
   "cell_type": "code",
   "execution_count": 4,
   "metadata": {},
   "outputs": [],
   "source": [
    "import cudf\n",
    "import pandas as pd"
   ]
  },
  {
   "cell_type": "code",
   "execution_count": 68,
   "metadata": {},
   "outputs": [],
   "source": [
    "# Source files\n",
    "raw_parquet_file = 'logs_sample/haproxy_logs_10k.parquet'\n",
    "raw_json_file = 'logs_sample/haproxy_json_logs_raw_original.txt'\n",
    "\n",
    "# Benchmark configuration\n",
    "nlargest = 300"
   ]
  },
  {
   "cell_type": "markdown",
   "metadata": {},
   "source": [
    "## Target file size validation\n",
    "Set target size (in MB) for the test file"
   ]
  },
  {
   "cell_type": "code",
   "execution_count": 70,
   "metadata": {},
   "outputs": [],
   "source": [
    "# Source to be used\n",
    "source_file = raw_json_file \n",
    "\n",
    "# Target file for multiplication\n",
    "target_file = 'logs_sample/1gb.file' "
   ]
  },
  {
   "cell_type": "code",
   "execution_count": 71,
   "metadata": {},
   "outputs": [],
   "source": [
    "target_test_size_in_mb = 1000"
   ]
  },
  {
   "cell_type": "code",
   "execution_count": 72,
   "metadata": {},
   "outputs": [
    {
     "name": "stdout",
     "output_type": "stream",
     "text": [
      "Multiply target file by 200\n"
     ]
    }
   ],
   "source": [
    "multiplication_factor = target_test_size_in_mb // (os.path.getsize(source_file) >> 20)\n",
    "print(f'Multiply target file by {multiplication_factor}')"
   ]
  },
  {
   "cell_type": "code",
   "execution_count": 73,
   "metadata": {},
   "outputs": [],
   "source": [
    "with open(source_file, 'r') as source:\n",
    "    with open(target_file, 'w') as target:\n",
    "        [target.write(line) \n",
    "         for line in source.readlines() \n",
    "         for m in range(multiplication_factor)]"
   ]
  },
  {
   "cell_type": "code",
   "execution_count": 76,
   "metadata": {},
   "outputs": [
    {
     "name": "stdout",
     "output_type": "stream",
     "text": [
      "total 0\n",
      "drwxr-xr-x 2 50 nogroup    0 Jul  3 11:02 .ipynb_checkpoints\n",
      "-rw-r--r-- 1 50 nogroup 1.2G Jul  3 11:22 1gb.file\n",
      "-rw-r--r-- 1 50 nogroup 5.9M Jul  3 11:02 haproxy_json_logs_raw_original.txt\n",
      "-rw-r--r-- 1 50 nogroup  89K Jul  3 11:00 haproxy_logs_10k.parquet\n"
     ]
    }
   ],
   "source": [
    "!ls -lah logs_sample/"
   ]
  },
  {
   "cell_type": "markdown",
   "metadata": {},
   "source": [
    "## Benchmark\n",
    "\n",
    "### Flow\n",
    "- Read file\n",
    "- Compute aggregations\n",
    "- get nlargest()"
   ]
  },
  {
   "cell_type": "code",
   "execution_count": 77,
   "metadata": {},
   "outputs": [],
   "source": [
    "benchmark_file = target_file"
   ]
  },
  {
   "cell_type": "markdown",
   "metadata": {},
   "source": [
    "#### cuDF"
   ]
  },
  {
   "cell_type": "code",
   "execution_count": 79,
   "metadata": {},
   "outputs": [
    {
     "name": "stdout",
     "output_type": "stream",
     "text": [
      "4.98 s ± 88.6 ms per loop (mean ± std. dev. of 7 runs, 1 loop each)\n"
     ]
    }
   ],
   "source": [
    "%%timeit\n",
    "\n",
    "# Read file\n",
    "# gdf = cudf.read_parquet(benchmark_file)\n",
    "gdf = cudf.read_json(benchmark_file, lines=True)\n",
    "\n",
    "# Perform aggregation\n",
    "gdf.groupby(['log_ip']).agg({'feconn':'mean',\n",
    "                                'beconn':'mean',\n",
    "                                'time_backend_response':'max',\n",
    "                                'time_backend_response':'mean',\n",
    "                                'time_queue':'mean',\n",
    "                                'time_duration': 'mean',\n",
    "                                'time_request': 'mean',\n",
    "                                'time_backend_connect':'mean'\n",
    "                               })\n",
    "\n",
    "# Select top N\n",
    "nlarge = gdf.nlargest(nlargest, 'time_backend_response')"
   ]
  },
  {
   "cell_type": "markdown",
   "metadata": {},
   "source": [
    "#### Pandas"
   ]
  },
  {
   "cell_type": "code",
   "execution_count": 80,
   "metadata": {},
   "outputs": [
    {
     "name": "stdout",
     "output_type": "stream",
     "text": [
      "54.5 s ± 692 ms per loop (mean ± std. dev. of 7 runs, 1 loop each)\n"
     ]
    }
   ],
   "source": [
    "%%timeit\n",
    "\n",
    "# Read file\n",
    "# gdf = pd.read_parquet(benchmark_file)\n",
    "gdf = pd.read_json(benchmark_file, lines=True)\n",
    "\n",
    "# Perform aggregation\n",
    "gdf.groupby(['log_ip']).agg({'feconn':'mean',\n",
    "                                'beconn':'mean',\n",
    "                                'time_backend_response':'max',\n",
    "                                'time_backend_response':'mean',\n",
    "                                'time_queue':'mean',\n",
    "                                'time_duration': 'mean',\n",
    "                                'time_request': 'mean',\n",
    "                                'time_backend_connect':'mean'\n",
    "                               })\n",
    "\n",
    "# Select top N\n",
    "nlarge = gdf.nlargest(nlargest, 'time_backend_response')"
   ]
  },
  {
   "cell_type": "markdown",
   "metadata": {},
   "source": [
    "## Test loading times"
   ]
  },
  {
   "cell_type": "markdown",
   "metadata": {},
   "source": [
    "#### cudf"
   ]
  },
  {
   "cell_type": "code",
   "execution_count": 81,
   "metadata": {},
   "outputs": [
    {
     "name": "stdout",
     "output_type": "stream",
     "text": [
      "4.76 s ± 34.7 ms per loop (mean ± std. dev. of 7 runs, 1 loop each)\n"
     ]
    }
   ],
   "source": [
    "%%timeit\n",
    "# gdf = cudf.read_parquet(benchmark_file)\n",
    "gdf = cudf.read_json(benchmark_file, lines=True)"
   ]
  },
  {
   "cell_type": "markdown",
   "metadata": {},
   "source": [
    "#### Pandas"
   ]
  },
  {
   "cell_type": "code",
   "execution_count": 82,
   "metadata": {},
   "outputs": [
    {
     "name": "stdout",
     "output_type": "stream",
     "text": [
      "52.6 s ± 187 ms per loop (mean ± std. dev. of 7 runs, 1 loop each)\n"
     ]
    }
   ],
   "source": [
    "%%timeit\n",
    "# gdf = pd.read_parquet(benchmark_file)\n",
    "gdf = pd.read_json(benchmark_file, lines=True)"
   ]
  },
  {
   "cell_type": "markdown",
   "metadata": {},
   "source": [
    "## Test aggregation"
   ]
  },
  {
   "cell_type": "code",
   "execution_count": 83,
   "metadata": {},
   "outputs": [],
   "source": [
    "# gdf = cudf.read_parquet(benchmark_file)\n",
    "gdf = cudf.read_json(benchmark_file, lines=True)\n",
    "\n",
    "# pdf = pd.read_parquet(benchmark_file)\n",
    "pdf = pd.read_json(benchmark_file, lines=True)"
   ]
  },
  {
   "cell_type": "markdown",
   "metadata": {},
   "source": [
    "#### cudf"
   ]
  },
  {
   "cell_type": "code",
   "execution_count": 84,
   "metadata": {},
   "outputs": [
    {
     "name": "stdout",
     "output_type": "stream",
     "text": [
      "264 ms ± 21.2 ms per loop (mean ± std. dev. of 7 runs, 1 loop each)\n"
     ]
    }
   ],
   "source": [
    "%%timeit\n",
    "gdf.groupby(['log_ip']).agg({'feconn':'mean',\n",
    "                                'beconn':'mean',\n",
    "                                'time_backend_response':'max',\n",
    "                                'time_backend_response':'mean',\n",
    "                                'time_queue':'mean',\n",
    "                                'time_duration': 'mean',\n",
    "                                'time_request': 'mean',\n",
    "                                'time_backend_connect':'mean'\n",
    "                               })\n",
    "nlarge = gdf.nlargest(nlargest, 'time_backend_response')"
   ]
  },
  {
   "cell_type": "markdown",
   "metadata": {},
   "source": [
    "#### Pandas"
   ]
  },
  {
   "cell_type": "code",
   "execution_count": null,
   "metadata": {},
   "outputs": [],
   "source": [
    "%%timeit\n",
    "pdf.groupby(['log_ip']).agg({'feconn':'mean',\n",
    "                                'beconn':'mean',\n",
    "                                'time_backend_response':'max',\n",
    "                                'time_backend_response':'mean',\n",
    "                                'time_queue':'mean',\n",
    "                                'time_duration': 'mean',\n",
    "                                'time_request': 'mean',\n",
    "                                'time_backend_connect':'mean'\n",
    "                               })\n",
    "nlarge = pdf.nlargest(nlargest, 'time_backend_response')"
   ]
  },
  {
   "cell_type": "code",
   "execution_count": null,
   "metadata": {},
   "outputs": [],
   "source": []
  }
 ],
 "metadata": {
  "kernelspec": {
   "display_name": "Python 3",
   "language": "python",
   "name": "python3"
  },
  "language_info": {
   "codemirror_mode": {
    "name": "ipython",
    "version": 3
   },
   "file_extension": ".py",
   "mimetype": "text/x-python",
   "name": "python",
   "nbconvert_exporter": "python",
   "pygments_lexer": "ipython3",
   "version": "3.6.8"
  }
 },
 "nbformat": 4,
 "nbformat_minor": 2
}
