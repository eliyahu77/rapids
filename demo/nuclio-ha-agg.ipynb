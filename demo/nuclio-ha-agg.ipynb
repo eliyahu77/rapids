{
 "cells": [
  {
   "cell_type": "markdown",
   "metadata": {},
   "source": [
    "# Nuclio - HA Logs (parquet) Aggregation computation"
   ]
  },
  {
   "cell_type": "markdown",
   "metadata": {},
   "source": [
    "**Objective:** Compute log metrics from timely parquet files"
   ]
  },
  {
   "cell_type": "code",
   "execution_count": 1,
   "metadata": {},
   "outputs": [],
   "source": [
    "# nuclio : ignore\n",
    "import nuclio"
   ]
  },
  {
   "cell_type": "markdown",
   "metadata": {},
   "source": [
    "## Environment"
   ]
  },
  {
   "cell_type": "markdown",
   "metadata": {},
   "source": [
    "### Base config"
   ]
  },
  {
   "cell_type": "code",
   "execution_count": 2,
   "metadata": {},
   "outputs": [
    {
     "name": "stdout",
     "output_type": "stream",
     "text": [
      "%nuclio: setting spec.triggers.json2parquet.kind to 'cron'\n",
      "%nuclio: setting spec.triggers.json2parquet.attributes.interval to '1m'\n",
      "%nuclio: setting spec.build.baseImage to 'rapidsai/rapidsai:cuda10.0-runtime-centos7'\n"
     ]
    }
   ],
   "source": [
    "%%nuclio config\n",
    "\n",
    "## TODO: Change to kafka / HTTP stream trigger\n",
    "\n",
    "# Trigger\n",
    "spec.triggers.json2parquet.kind = \"cron\"\n",
    "spec.triggers.json2parquet.attributes.interval = \"1m\"\n",
    "\n",
    "# Base image\n",
    "spec.build.baseImage = \"rapidsai/rapidsai:cuda10.0-runtime-centos7\""
   ]
  },
  {
   "cell_type": "markdown",
   "metadata": {},
   "source": [
    "### Installations"
   ]
  },
  {
   "cell_type": "code",
   "execution_count": 3,
   "metadata": {},
   "outputs": [],
   "source": [
    "%%nuclio cmd\n",
    "# None Needed at the moment"
   ]
  },
  {
   "cell_type": "markdown",
   "metadata": {},
   "source": [
    "### Env variables"
   ]
  },
  {
   "cell_type": "code",
   "execution_count": 4,
   "metadata": {},
   "outputs": [
    {
     "name": "stdout",
     "output_type": "stream",
     "text": [
      "%nuclio: setting 'SOURCE_PATH' environment variable\n",
      "%nuclio: setting 'SINK_PATH' environment variable\n",
      "%nuclio: setting 'BATCH_TIME_IN_SECS' environment variable\n",
      "%nuclio: setting 'METRIC_NAMES' environment variable\n"
     ]
    }
   ],
   "source": [
    "%nuclio env SOURCE_PATH=./source\n",
    "%nuclio env SINK_PATH=./sink\n",
    "%nuclio env BATCH_TIME_IN_SECS=60\n",
    "%nuclio env METRIC_NAMES=cpu_utilization,latency,packet_loss,throughput"
   ]
  },
  {
   "cell_type": "markdown",
   "metadata": {},
   "source": [
    "## Function"
   ]
  },
  {
   "cell_type": "code",
   "execution_count": 5,
   "metadata": {},
   "outputs": [],
   "source": [
    "import os\n",
    "import glob\n",
    "from datetime import datetime, timedelta\n",
    "import time\n",
    "import pandas as pd\n",
    "import cudf\n",
    "import itertools"
   ]
  },
  {
   "cell_type": "markdown",
   "metadata": {},
   "source": [
    "### Helper functions"
   ]
  },
  {
   "cell_type": "code",
   "execution_count": 6,
   "metadata": {},
   "outputs": [],
   "source": [
    "def read_files(context):\n",
    "    parquet_path = os.path.join(context.source, '*.parquet')\n",
    "    \n",
    "    # List parquet files in source folder\n",
    "    files = itertools.filterfalse(\n",
    "        lambda file: datetime.fromtimestamp(int(file.split('/')[-1].split('.')[0])) < (context.batch_time - context.batch_interval), \n",
    "        glob.glob(parquet_path))  \n",
    "\n",
    "    # Create cuDF dataframes from files\n",
    "    files = [cudf.read_parquet(file, engine='pyarrow') for file in files]\n",
    "    \n",
    "    # Return joined DF\n",
    "    if len(files) == 1:\n",
    "        print('one file')\n",
    "        return files[0]\n",
    "    if len(files) > 1:\n",
    "        return cudf.concat(files)\n",
    "    else:\n",
    "        print('empty')\n",
    "        return cudf.DataFrame()"
   ]
  },
  {
   "cell_type": "code",
   "execution_count": 7,
   "metadata": {},
   "outputs": [],
   "source": [
    "def update_batch_time(context):\n",
    "    context.batch_time += context.batch_interval"
   ]
  },
  {
   "cell_type": "code",
   "execution_count": 12,
   "metadata": {},
   "outputs": [],
   "source": [
    "def df_to_parquet(context, df):\n",
    "    filename = f'{time.time()}.parquet'\n",
    "    filepath = os.path.join(context.sink, filename)\n",
    "\n",
    "    new_index = [f'{e[0]}_{e[1]}' for e in list(df.columns)]\n",
    "    df.columns = new_index\n",
    "    \n",
    "    df.to_parquet(filepath)"
   ]
  },
  {
   "cell_type": "markdown",
   "metadata": {},
   "source": [
    "### Main"
   ]
  },
  {
   "cell_type": "code",
   "execution_count": 9,
   "metadata": {},
   "outputs": [],
   "source": [
    "def init_context(context):\n",
    "        source = os.getenv('SOURCE_PATH', 'source')\n",
    "        setattr(context, 'source', source)\n",
    "        \n",
    "        sink = os.getenv('SINK_PATH', 'sink')\n",
    "        setattr(context, 'sink', sink)\n",
    "        \n",
    "        # Verify source and sink are available\n",
    "        os.makedirs(context.source, exist_ok=True)\n",
    "        os.makedirs(context.sink, exist_ok=True)\n",
    "        \n",
    "        # Expose metric names\n",
    "        metric_names = os.environ['METRIC_NAMES']\n",
    "        metric_names = metric_names.split(',')\n",
    "        setattr(context, 'metric_names', metric_names)\n",
    "        \n",
    "        batch_time = datetime.now()\n",
    "        setattr(context, 'batch_time', batch_time)\n",
    "        \n",
    "        batch_interval = int(os.getenv('BATCH_INTERVAL_IN_SECONDS', '60'))\n",
    "        batch_interval = timedelta(seconds=batch_interval)\n",
    "        setattr(context, 'batch_interval', batch_interval)"
   ]
  },
  {
   "cell_type": "code",
   "execution_count": 10,
   "metadata": {},
   "outputs": [],
   "source": [
    "def handler(context, event):\n",
    "    df = read_files(context)\n",
    "\n",
    "    # Make sure we aggregate on a non-empty df\n",
    "    if not df.empty:\n",
    "        df = df.groupby(['company']).\\\n",
    "                        agg({k: ['min', 'max', 'mean'] for k in context.metric_names})\n",
    "        \n",
    "    df_to_parquet(context, df)\n",
    "    context.batch_time += context.batch_interval"
   ]
  },
  {
   "cell_type": "markdown",
   "metadata": {},
   "source": [
    "# Test"
   ]
  },
  {
   "cell_type": "code",
   "execution_count": 13,
   "metadata": {},
   "outputs": [
    {
     "name": "stdout",
     "output_type": "stream",
     "text": [
      "empty\n"
     ]
    },
    {
     "name": "stderr",
     "output_type": "stream",
     "text": [
      "/conda/lib/python3.6/site-packages/cudf/io/parquet.py:56: UserWarning: Using CPU via PyArrow to write Parquet dataset, this will be GPU accelerated in the future\n",
      "  warnings.warn(\"Using CPU via PyArrow to write Parquet dataset, this will \"\n"
     ]
    }
   ],
   "source": [
    "# nuclio : ignore\n",
    "\n",
    "init_context(context)\n",
    "event = nuclio.Event(body='')\n",
    "out = handler(context, event)\n",
    "out"
   ]
  },
  {
   "cell_type": "markdown",
   "metadata": {},
   "source": [
    "# If has a nuclio cluster - Deploy"
   ]
  },
  {
   "cell_type": "code",
   "execution_count": null,
   "metadata": {},
   "outputs": [],
   "source": [
    "%nuclio deploy -p nvidia -n json2parquet -c"
   ]
  },
  {
   "cell_type": "code",
   "execution_count": null,
   "metadata": {},
   "outputs": [],
   "source": []
  }
 ],
 "metadata": {
  "kernelspec": {
   "display_name": "Python 3",
   "language": "python",
   "name": "python3"
  },
  "language_info": {
   "codemirror_mode": {
    "name": "ipython",
    "version": 3
   },
   "file_extension": ".py",
   "mimetype": "text/x-python",
   "name": "python",
   "nbconvert_exporter": "python",
   "pygments_lexer": "ipython3",
   "version": "3.6.8"
  }
 },
 "nbformat": 4,
 "nbformat_minor": 2
}
